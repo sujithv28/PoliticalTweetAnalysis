{
 "cells": [
  {
   "cell_type": "markdown",
   "metadata": {},
   "source": [
    "# US Political Tweet Analysis\n",
    "\n",
    "## Introduction\n",
    "In this notebook we highlight Data Science and Natural Language Processing methods to analyze tweets pertaining to US Presidential Nominees: Hillary Clinton (Democratic Party) and Donald Trump (Republican Party) before and after the election. Our analysis focuses on sentiment analysis related to each party over time, network effects/flow (echo chamber), and any other election factors.\n",
    "\n",
    "Before following through this notebook please install all required packages listed in the [references.txt](references.txt) file as well as following the steps listed in the [README](README.md) to download the NLTK corpus."
   ]
  },
  {
   "cell_type": "code",
   "execution_count": null,
   "metadata": {
    "collapsed": true
   },
   "outputs": [],
   "source": []
  }
 ],
 "metadata": {
  "anaconda-cloud": {},
  "kernelspec": {
   "display_name": "Python [conda env:gl-env]",
   "language": "python",
   "name": "conda-env-gl-env-py"
  },
  "language_info": {
   "codemirror_mode": {
    "name": "ipython",
    "version": 2
   },
   "file_extension": ".py",
   "mimetype": "text/x-python",
   "name": "python",
   "nbconvert_exporter": "python",
   "pygments_lexer": "ipython2",
   "version": "2.7.11"
  }
 },
 "nbformat": 4,
 "nbformat_minor": 2
}
